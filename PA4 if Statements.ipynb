{
 "cells": [
  {
   "cell_type": "markdown",
   "id": "e8c90a44",
   "metadata": {},
   "source": [
    "### Brandy Denning \n",
    "PA4\n",
    "CS 150"
   ]
  },
  {
   "cell_type": "markdown",
   "id": "e3fb6a93",
   "metadata": {},
   "source": [
    "#### Task 1: Grade Calculator"
   ]
  },
  {
   "cell_type": "code",
   "execution_count": 1,
   "id": "d9648b37",
   "metadata": {},
   "outputs": [],
   "source": [
    "grades=[92, 81, 79, 65, 99]"
   ]
  },
  {
   "cell_type": "code",
   "execution_count": 2,
   "id": "05704ea7",
   "metadata": {},
   "outputs": [
    {
     "data": {
      "text/plain": [
       "416"
      ]
     },
     "execution_count": 2,
     "metadata": {},
     "output_type": "execute_result"
    }
   ],
   "source": [
    "sum(grades)"
   ]
  },
  {
   "cell_type": "code",
   "execution_count": 3,
   "id": "b5bae2b5",
   "metadata": {},
   "outputs": [
    {
     "data": {
      "text/plain": [
       "5"
      ]
     },
     "execution_count": 3,
     "metadata": {},
     "output_type": "execute_result"
    }
   ],
   "source": [
    "len(grades)"
   ]
  },
  {
   "cell_type": "code",
   "execution_count": 4,
   "id": "059c9a5d",
   "metadata": {},
   "outputs": [],
   "source": [
    "average_grades=sum(grades)/len(grades)"
   ]
  },
  {
   "cell_type": "code",
   "execution_count": 5,
   "id": "56e07c9a",
   "metadata": {},
   "outputs": [
    {
     "data": {
      "text/plain": [
       "83.2"
      ]
     },
     "execution_count": 5,
     "metadata": {},
     "output_type": "execute_result"
    }
   ],
   "source": [
    "average_grades"
   ]
  },
  {
   "cell_type": "code",
   "execution_count": 7,
   "id": "f2df8d6a",
   "metadata": {},
   "outputs": [],
   "source": [
    "grade1=\"B\""
   ]
  },
  {
   "cell_type": "code",
   "execution_count": 8,
   "id": "2327202e",
   "metadata": {},
   "outputs": [],
   "source": [
    "if grade1==\"90-100\":\n",
    "    print('A') \n",
    "if grade1==\"80-89\":\n",
    "    print('B')\n",
    "if grade1==\"70-79\":\n",
    "    print('C')\n",
    "if grade1==\"60-69\":\n",
    "    print('D')\n",
    "if grade1==\"Below 60\":\n",
    "    print('F')"
   ]
  },
  {
   "cell_type": "code",
   "execution_count": 9,
   "id": "9396f321",
   "metadata": {},
   "outputs": [],
   "source": [
    "grade1=\"B\""
   ]
  },
  {
   "cell_type": "code",
   "execution_count": 10,
   "id": "d84d2ce8",
   "metadata": {},
   "outputs": [
    {
     "data": {
      "text/plain": [
       "'B'"
      ]
     },
     "execution_count": 10,
     "metadata": {},
     "output_type": "execute_result"
    }
   ],
   "source": [
    "grade1"
   ]
  },
  {
   "cell_type": "markdown",
   "id": "b35619a6",
   "metadata": {},
   "source": [
    "#### Task 2 Tuple Unpacking"
   ]
  },
  {
   "cell_type": "code",
   "execution_count": 11,
   "id": "7321d60e",
   "metadata": {},
   "outputs": [],
   "source": [
    "student=(\"Brandy\", \"Denning\", 39, \"Science\",)"
   ]
  },
  {
   "cell_type": "code",
   "execution_count": 12,
   "id": "a7c59b04",
   "metadata": {},
   "outputs": [
    {
     "data": {
      "text/plain": [
       "39"
      ]
     },
     "execution_count": 12,
     "metadata": {},
     "output_type": "execute_result"
    }
   ],
   "source": [
    "student[2]"
   ]
  },
  {
   "cell_type": "code",
   "execution_count": 13,
   "id": "1895fb57",
   "metadata": {},
   "outputs": [],
   "source": [
    "age1=39"
   ]
  },
  {
   "cell_type": "code",
   "execution_count": 14,
   "id": "efd3ed37",
   "metadata": {},
   "outputs": [
    {
     "name": "stdout",
     "output_type": "stream",
     "text": [
      "if a person is over than 18 then they are an adult\n"
     ]
    }
   ],
   "source": [
    "if age1>=18:\n",
    "    print('if a person is over than 18 then they are an adult')\n",
    "else:\n",
    "    print('they are a minor')"
   ]
  },
  {
   "cell_type": "markdown",
   "id": "8c919345",
   "metadata": {},
   "source": [
    "#### Task 3 Month and Date"
   ]
  },
  {
   "cell_type": "code",
   "execution_count": 15,
   "id": "e3bd41fc",
   "metadata": {},
   "outputs": [],
   "source": [
    "months=['1', '2', '3', '4', '5', '6', '7', '8', '9', '10', '11', '12']\n",
    "months[0]='January has 31 days'\n",
    "months[1]='February has 28 days'\n",
    "months[2]='March has 31 days'\n",
    "months[3]='April as 30 days'\n",
    "months[4]='May has 31 days'\n",
    "months[5]='June has 30 days'\n",
    "months[6]='July has 31 days'\n",
    "months[7]='August has 31 days'\n",
    "months[8]='September has 30 days'\n",
    "months[9]='October has 31 days'\n",
    "months[10]='November has 30 days'\n",
    "months[11]='December has 31 days'"
   ]
  },
  {
   "cell_type": "code",
   "execution_count": 16,
   "id": "cc3e5d49",
   "metadata": {},
   "outputs": [
    {
     "data": {
      "text/plain": [
       "'November has 30 days'"
      ]
     },
     "execution_count": 16,
     "metadata": {},
     "output_type": "execute_result"
    }
   ],
   "source": [
    "months[10]"
   ]
  },
  {
   "cell_type": "markdown",
   "id": "71a205dd",
   "metadata": {},
   "source": [
    "#### Task 4 Triangle "
   ]
  },
  {
   "cell_type": "code",
   "execution_count": 17,
   "id": "80c93470",
   "metadata": {},
   "outputs": [],
   "source": [
    "triangle_sides=['10', '7', '5']"
   ]
  },
  {
   "cell_type": "code",
   "execution_count": 18,
   "id": "d6ad13ea",
   "metadata": {},
   "outputs": [
    {
     "name": "stdout",
     "output_type": "stream",
     "text": [
      "The triangle is scalene.\n"
     ]
    }
   ],
   "source": [
    "if triangle_sides==['10', '10', '10']:\n",
    "    print(\"The triangle is an equilateral.\")\n",
    "elif triangle_sides==['10', '7', '7']:\n",
    "    print(\"The triangle is an isosceles.\")\n",
    "else:\n",
    "    print(\"The triangle is scalene.\")"
   ]
  },
  {
   "cell_type": "markdown",
   "id": "940bc076",
   "metadata": {},
   "source": [
    "#### Task 5 Comprehension and Filtering"
   ]
  },
  {
   "cell_type": "code",
   "execution_count": 19,
   "id": "e4f32aa4",
   "metadata": {},
   "outputs": [
    {
     "name": "stdout",
     "output_type": "stream",
     "text": [
      "['21', '22', '23', '24', '25', '26', '27', '28', '29', '30']\n"
     ]
    }
   ],
   "source": [
    "numbers = [\"21\", \"22\", \"23\", \"24\", \"25\", \"26\", \"27\", \"28\", \"29\", \"30\"]\n",
    "even_numbers =[\"22\", \"24\", \"26\", \"28\", \"30\"]\n",
    "odd_numbers = [\"21\", \"23\", \"25\", \"27\", \"29\"]\n",
    "newlist = [x for x in numbers if x != \"even_numbers\"]\n",
    "print(newlist)"
   ]
  },
  {
   "cell_type": "code",
   "execution_count": null,
   "id": "5c5bdc85",
   "metadata": {},
   "outputs": [],
   "source": []
  }
 ],
 "metadata": {
  "kernelspec": {
   "display_name": "Python 3 (ipykernel)",
   "language": "python",
   "name": "python3"
  },
  "language_info": {
   "codemirror_mode": {
    "name": "ipython",
    "version": 3
   },
   "file_extension": ".py",
   "mimetype": "text/x-python",
   "name": "python",
   "nbconvert_exporter": "python",
   "pygments_lexer": "ipython3",
   "version": "3.11.5"
  }
 },
 "nbformat": 4,
 "nbformat_minor": 5
}
